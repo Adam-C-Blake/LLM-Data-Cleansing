{
 "cells": [
  {
   "cell_type": "markdown",
   "metadata": {},
   "source": [
    "# LLM Data Cleansing"
   ]
  },
  {
   "cell_type": "markdown",
   "metadata": {},
   "source": [
    "#### Loading Environment Variables"
   ]
  },
  {
   "cell_type": "code",
   "execution_count": 1,
   "metadata": {},
   "outputs": [],
   "source": [
    "from dotenv import load_dotenv\n",
    "import os\n",
    "\n",
    "# loading .env file\n",
    "load_dotenv()\n",
    "\n",
    "# setting LLM_API_KEY\n",
    "OPENAI_API_KEY = os.getenv(\"OPENAI_API_KEY\")"
   ]
  },
  {
   "cell_type": "markdown",
   "metadata": {},
   "source": [
    "#### Initialize LLM and Prompt"
   ]
  },
  {
   "cell_type": "code",
   "execution_count": 2,
   "metadata": {},
   "outputs": [
    {
     "name": "stdout",
     "output_type": "stream",
     "text": [
      "PROMPT:\n",
      "\n",
      "You are tasked with converting the following durations to days. These durations are a free-form text \n",
      "field on an 811 OneCall Ticket.  The Duration is how long the job should last. There may be misspellings \n",
      "or errors. If you see an estimate or range, use the highest. The minimum number of days should be 1, \n",
      "if something is 1 hour, it should be 1 day. Anything that cannot convert to a day, is error. For full days, \n",
      "enter the exact number of days. For any part of a day mentioned (like hours or half days), count each as a \n",
      "full day if the activity spans multiple days, reflecting the occupation of each calendar day. \n",
      "\n",
      " \n",
      "First column, “duration”, will be the original value (leave it exactly as it was entered). \n",
      "\n",
      "Second column, “days”, will be standardized amount in days (integer only).   \n",
      "\n",
      "Third column, \"is_estimate\",  will be binary (1 for yes, 0 for no). This used for anything that could \n",
      "be an estimate based on ranges or if language that could suggest an estimate is present. \n",
      "Example of such language would be \"about 2 days\" . Example of a range would be \"1-2 days\" \n",
      "where it could be 1 day or 2 days.  Language like \"mon to tue\" would be considered a start and \n",
      "stop date and not a range. \n",
      "\n",
      "\n",
      "Output should be a table. Please only provide the table and no other output.\n",
      "PROMPT:\n",
      "\n",
      "You are tasked with converting the following durations to days. These durations are a free-form text \n",
      "field on an 811 OneCall Ticket.  The Duration is how long the job should last. There may be misspellings \n",
      "or errors. If you see an estimate or range, use the highest. The minimum number of days should be 1, \n",
      "if something is 1 hour, it should be 1 day. Anything that cannot convert to a day, is error. For full days, \n",
      "enter the exact number of days. For any part of a day mentioned (like hours or half days), count each as a \n",
      "full day if the activity spans multiple days, reflecting the occupation of each calendar day. \n",
      "\n",
      " \n",
      "First column, “duration”, will be the original value (leave it exactly as it was entered). \n",
      "\n",
      "Second column, “days”, will be standardized amount in days (integer only).   \n",
      "\n",
      "Third column, \"is_estimate\",  will be binary (1 for yes, 0 for no). This used for anything that could \n",
      "be an estimate based on ranges or if language that could suggest an estimate is present. \n",
      "Example of such language would be \"about 2 days\" . Example of a range would be \"1-2 days\" \n",
      "where it could be 1 day or 2 days.  Language like \"mon to tue\" would be considered a start and \n",
      "stop date and not a range. \n",
      "\n",
      "\n",
      "Output should be a table. Please only provide the table and no other output.\n"
     ]
    }
   ],
   "source": [
    "import openai\n",
    "from langchain_openai import OpenAI\n",
    "\n",
    "# Initialize OpenAI LLM with LangChain\n",
    "llm = OpenAI(api_key=OPENAI_API_KEY)\n",
    "\n",
    "# Load prompt from prompt.txt file\n",
    "with open('prompt.txt', 'r') as file:\n",
    "    prompt = file.read()\n",
    "\n",
    "print('PROMPT:\\n')\n",
    "print(prompt)"
   ]
  },
  {
   "cell_type": "markdown",
   "metadata": {},
   "source": [
    "#### Initialize Data\n",
    "\n",
    "Loading <code>llm_unique_data.csv</code>, which has duplicate values removed to save on unnecessary computational costs"
   ]
  },
  {
   "cell_type": "code",
   "execution_count": 7,
   "metadata": {},
   "outputs": [
    {
     "name": "stdout",
     "output_type": "stream",
     "text": [
      "Total Rows: 1356\n",
      "Total Rows: 1356\n"
     ]
    },
    {
     "data": {
      "text/plain": [
       "0    NOT APPLICABLE\n",
       "1           14 DAYS\n",
       "2             1 DAY\n",
       "3            5 DAYS\n",
       "4           2 WEEKS\n",
       "Name: DURATION, dtype: object"
      ]
     },
     "metadata": {},
     "output_type": "display_data"
    }
   ],
   "source": [
    "import pandas as pd\n",
    "\n",
    "# Load the CSV data and assign to DataFrame\n",
    "csv_file_path = 'data/llm_unique_data.csv'\n",
    "df = pd.read_csv(csv_file_path)\n",
    "\n",
    "# Setting the DURATION column to llm_data\n",
    "llm_data = df['DURATION']\n",
    "\n",
    "# Checking output \n",
    "print(f'Total Rows: {len(llm_data)}')\n",
    "display(llm_data.head())\n"
   ]
  },
  {
   "cell_type": "markdown",
   "metadata": {},
   "source": []
  },
  {
   "cell_type": "code",
   "execution_count": 5,
   "metadata": {},
   "outputs": [],
   "source": []
  }
 ],
 "metadata": {
  "language_info": {
   "name": "python"
  }
 },
 "nbformat": 4,
 "nbformat_minor": 2
}
