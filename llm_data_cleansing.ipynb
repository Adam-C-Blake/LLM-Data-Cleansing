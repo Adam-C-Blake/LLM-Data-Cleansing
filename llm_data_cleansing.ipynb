{
 "cells": [
  {
   "cell_type": "markdown",
   "metadata": {},
   "source": [
    "# LLM Data Cleansing Pipeline"
   ]
  },
  {
   "cell_type": "markdown",
   "metadata": {},
   "source": [
    "#### Loading Environment Variables and Initialize API Key"
   ]
  },
  {
   "cell_type": "code",
   "execution_count": 1,
   "metadata": {},
   "outputs": [],
   "source": [
    "from dotenv import load_dotenv\n",
    "import os\n",
    "\n",
    "# loading .env file\n",
    "load_dotenv()\n",
    "\n",
    "# setting OPENAI_API_KEY\n",
    "OPENAI_API_KEY = os.getenv(\"OPENAI_API_KEY\")"
   ]
  },
  {
   "cell_type": "markdown",
   "metadata": {},
   "source": [
    "#### Initialize LLM"
   ]
  },
  {
   "cell_type": "code",
   "execution_count": 2,
   "metadata": {},
   "outputs": [],
   "source": [
    "import openai\n",
    "from langchain_openai import ChatOpenAI\n",
    "\n",
    "\n",
    "# Setting model\n",
    "llm_model = \"gpt-4o-mini\" \n",
    "\n",
    "# Initialize OpenAI LLM with LangChain\n",
    "llm = ChatOpenAI(\n",
    "    openai_api_key=OPENAI_API_KEY,\n",
    "    model_name=llm_model,\n",
    "    temperature=0,   # Control randomness: 0.0 is deterministic, 1.0 is very creative\n",
    "    #max_tokens=1500    # Max tokens in the response\n",
    ")"
   ]
  },
  {
   "cell_type": "markdown",
   "metadata": {},
   "source": [
    "#### Initialize Prompt"
   ]
  },
  {
   "cell_type": "code",
   "execution_count": 3,
   "metadata": {},
   "outputs": [
    {
     "name": "stdout",
     "output_type": "stream",
     "text": [
      "\n",
      "Preview Prompt:\n",
      "\n",
      "You are tasked with converting the following durations to days. These durations are a free-form text field on an 811 \n",
      "OneCall Ticket. The Duration is how long the job should last. There may be misspellings or errors. If you see an \n",
      "estimate or range, use the highest value. The minimum number of days if duration is known should be 1; if something is \n",
      "1 hour, it should be 1 day. Anything that cannot convert to a day is an error (set \"days\" to 0). For full days, enter \n",
      "the exact number of days. For any part of a day mentioned (like hours or half days), count each as a full day if the \n",
      "activity spans multiple days, reflecting the occupation of each calendar day.  If the duration is not known, it should\n",
      "be 0 and an estimate.\n",
      "\n",
      "First column, \"duration\", will be the original value (leave it exactly as it was entered).\n",
      "\n",
      "Second column, \"days\", will be the standardized amount in days (integer only).\n",
      "\n",
      "Third column, \"is_estimate\", will be binary (1 for yes, 0 for no). This is used for anything that could be an estimate \n",
      "based on ranges or if language that could suggest an estimate is present (e.g., \"about 2 days\", \"1-2 days\"). Language \n",
      "like \"mon to tue\" would be considered a start and stop date and not a range.\n",
      "\n",
      "Example Input:\n",
      "\"1 day\"\n",
      "\"about 3 days\"\n",
      "\"2-4 weeks\"\n",
      "\"mon to tue\"\n",
      "\n",
      "Example Output:\n",
      "\"duration\",\"days\",\"is_estimate\"\n",
      "\"1 day\",1,0\n",
      "\"about 3 days\",3,1\n",
      "\"2-4 weeks\",28,1\n",
      "\"mon to tue\",2,0\n",
      "\"hamburger\",0,1\n",
      "\"march 25-march 27\", 3, 0\n",
      "\n",
      "Instructions:\n",
      "- Output the result as a CSV format with the columns: \"duration\", \"days\", and \"is_estimate\".\n",
      "- Do **not** include any markdown formatting, code blocks, or extra text before or after the CSV.\n",
      "- Ensure the CSV is properly formatted, with each value separated by commas, and strings enclosed in double quotes if necessary.\n",
      "\n",
      "{format_instructions}\n",
      "\n",
      "Data:\n",
      "{data}\n",
      "\n",
      "\n",
      "Preview Prompt:\n",
      "\n",
      "You are tasked with converting the following durations to days. These durations are a free-form text field on an 811 \n",
      "OneCall Ticket. The Duration is how long the job should last. There may be misspellings or errors. If you see an \n",
      "estimate or range, use the highest value. The minimum number of days if duration is known should be 1; if something is \n",
      "1 hour, it should be 1 day. Anything that cannot convert to a day is an error (set \"days\" to 0). For full days, enter \n",
      "the exact number of days. For any part of a day mentioned (like hours or half days), count each as a full day if the \n",
      "activity spans multiple days, reflecting the occupation of each calendar day.  If the duration is not known, it should\n",
      "be 0 and an estimate.\n",
      "\n",
      "First column, \"duration\", will be the original value (leave it exactly as it was entered).\n",
      "\n",
      "Second column, \"days\", will be the standardized amount in days (integer only).\n",
      "\n",
      "Third column, \"is_estimate\", will be binary (1 for yes, 0 for no). This is used for anything that could be an estimate \n",
      "based on ranges or if language that could suggest an estimate is present (e.g., \"about 2 days\", \"1-2 days\"). Language \n",
      "like \"mon to tue\" would be considered a start and stop date and not a range.\n",
      "\n",
      "Example Input:\n",
      "\"1 day\"\n",
      "\"about 3 days\"\n",
      "\"2-4 weeks\"\n",
      "\"mon to tue\"\n",
      "\n",
      "Example Output:\n",
      "\"duration\",\"days\",\"is_estimate\"\n",
      "\"1 day\",1,0\n",
      "\"about 3 days\",3,1\n",
      "\"2-4 weeks\",28,1\n",
      "\"mon to tue\",2,0\n",
      "\"hamburger\",0,1\n",
      "\"march 25-march 27\", 3, 0\n",
      "\n",
      "Instructions:\n",
      "- Output the result as a CSV format with the columns: \"duration\", \"days\", and \"is_estimate\".\n",
      "- Do **not** include any markdown formatting, code blocks, or extra text before or after the CSV.\n",
      "- Ensure the CSV is properly formatted, with each value separated by commas, and strings enclosed in double quotes if necessary.\n",
      "\n",
      "{format_instructions}\n",
      "\n",
      "Data:\n",
      "{data}\n"
     ]
    }
   ],
   "source": [
    "# Load prompt from prompt.txt file\n",
    "with open('prompt.txt', 'r') as file:\n",
    "    prompt = file.read()\n",
    "\n",
    "print('\\nPreview Prompt:\\n')\n",
    "print(prompt)"
   ]
  },
  {
   "cell_type": "markdown",
   "metadata": {},
   "source": [
    "#### Initialize Data\n",
    "\n",
    "Loading <code>llm_unique_data.csv</code>, which has duplicate values removed to save on unnecessary computational costs."
   ]
  },
  {
   "cell_type": "code",
   "execution_count": 4,
   "metadata": {},
   "outputs": [
    {
     "name": "stdout",
     "output_type": "stream",
     "text": [
      "Raw Data Preview:\n",
      "Raw Data Preview:\n"
     ]
    },
    {
     "data": {
      "text/plain": [
       "0    NOT APPLICABLE\n",
       "1           14 DAYS\n",
       "2             1 DAY\n",
       "3            5 DAYS\n",
       "4           2 WEEKS\n",
       "Name: DURATION, dtype: object"
      ]
     },
     "metadata": {},
     "output_type": "display_data"
    }
   ],
   "source": [
    "import pandas as pd\n",
    "import tiktoken\n",
    "\n",
    "# Load the CSV data and assign to DataFrame\n",
    "csv_file_path = 'data/llm_unique_data.csv'\n",
    "raw_df = pd.read_csv(csv_file_path)\n",
    "\n",
    "# Setting the DURATION column to llm_data\n",
    "llm_data = raw_df['DURATION']\n",
    "\n",
    "# Display the first few data entries\n",
    "print(\"Raw Data Preview:\")\n",
    "display(llm_data.head())"
   ]
  },
  {
   "cell_type": "markdown",
   "metadata": {},
   "source": [
    "#### Preprocess Data - LLM Input"
   ]
  },
  {
   "cell_type": "code",
   "execution_count": 5,
   "metadata": {},
   "outputs": [
    {
     "name": "stdout",
     "output_type": "stream",
     "text": [
      "Preprocessed Data Preview:\n",
      "Preprocessed Data Preview:\n"
     ]
    },
    {
     "data": {
      "text/plain": [
       "0    \"not applicable\"\n",
       "1           \"14 days\"\n",
       "2             \"1 day\"\n",
       "3            \"5 days\"\n",
       "4           \"2 weeks\"\n",
       "Name: DURATION, dtype: object"
      ]
     },
     "metadata": {},
     "output_type": "display_data"
    }
   ],
   "source": [
    "import pandas as pd\n",
    "import string\n",
    "import re\n",
    "\n",
    "# Define a function to preprocess each duration entry\n",
    "def preprocess_duration(text):\n",
    "    if pd.isna(text):\n",
    "        return \"\"  # for blank row\n",
    "    \n",
    "    # Convert to string (in case it's not)\n",
    "    text = str(text)\n",
    "    \n",
    "    # Trim leading and trailing whitespace\n",
    "    text = text.strip()\n",
    "    \n",
    "    # Convert to lowercase\n",
    "    text = text.lower()\n",
    "    \n",
    "    # Remove punctuation using str.translate\n",
    "    #text = text.translate(str.maketrans('', '', string.punctuation))\n",
    "    \n",
    "    # Remove any non-printable characters\n",
    "    #text = ''.join(char for char in text if char.isprintable())\n",
    "    \n",
    "    # Normalize whitespace (replace multiple spaces with single space)\n",
    "    text = re.sub(r'\\s+', ' ', text)\n",
    "    \n",
    "    # Enclose the cleaned text in double quotes\n",
    "    text = f'\"{text}\"'\n",
    "    \n",
    "    return text\n",
    "\n",
    "# Apply the preprocessing function to llm_data\n",
    "llm_data = llm_data.apply(preprocess_duration)\n",
    "\n",
    "# Display the first few preprocessed entries\n",
    "print(\"Preprocessed Data Preview:\")\n",
    "display(llm_data.head())"
   ]
  },
  {
   "cell_type": "markdown",
   "metadata": {},
   "source": [
    "#### Estimate Total Tokens to Send\n",
    "Using tiktoken to determin total tokens to be sent."
   ]
  },
  {
   "cell_type": "code",
   "execution_count": 6,
   "metadata": {},
   "outputs": [
    {
     "name": "stdout",
     "output_type": "stream",
     "text": [
      "\n",
      "Total Rows: 1356\n",
      "Total Tokens: 7102\n",
      "\n",
      "\n",
      "Total Rows: 1356\n",
      "Total Tokens: 7102\n"
     ]
    }
   ],
   "source": [
    "# Initialize tokenizer\n",
    "tokenizer = tiktoken.get_encoding(\"cl100k_base\")\n",
    "\n",
    "# Tokenize each entry in the DURATION column and count tokens\n",
    "llm_data_tokens = llm_data.apply(lambda x: len(tokenizer.encode(str(x))))\n",
    "\n",
    "# Calculate the total number of tokens\n",
    "total_tokens = llm_data_tokens.sum()\n",
    "\n",
    "# Checking output \n",
    "print(f'\\nTotal Rows: {len(llm_data)}')\n",
    "print(f'Total Tokens: {total_tokens}')"
   ]
  },
  {
   "cell_type": "markdown",
   "metadata": {},
   "source": [
    "#### Define Function to Batch <code>llm_data</code> Based on Tokens"
   ]
  },
  {
   "cell_type": "code",
   "execution_count": 7,
   "metadata": {},
   "outputs": [],
   "source": [
    "import tiktoken\n",
    "\n",
    "max_tokens = 3000\n",
    "\n",
    "def split_data_by_token_limit(data, prompt, max_tokens=max_tokens):\n",
    "\n",
    "    \"\"\"Splits data into batches that stay within the token limit.\"\"\"\n",
    "    \n",
    "    current_batch = []\n",
    "    prompt_tokens = len(tokenizer.encode(prompt))  # Get the token count for the prompt\n",
    "    current_tokens = prompt_tokens  # Start the token count for the batch with the prompt tokens\n",
    "    \n",
    "    for row in data:\n",
    "        row = str(row)  # Ensure that the row is treated as a string\n",
    "        row_tokens = len(tokenizer.encode(row))\n",
    "        \n",
    "        # Check if adding the current row would exceed the max_tokens limit\n",
    "        if current_tokens + row_tokens > max_tokens:\n",
    "            yield current_batch  # Return the current batch when max_tokens is reached\n",
    "            current_batch = []  # Start a new batch\n",
    "            current_tokens = prompt_tokens  # Reset token count with the prompt tokens included for the new batch\n",
    "        \n",
    "        current_batch.append(row)\n",
    "        current_tokens += row_tokens  # Add the row's token count to the current batch\n",
    "    \n",
    "    if current_batch:  # Yield the last batch if there's any data left\n",
    "        yield current_batch"
   ]
  },
  {
   "cell_type": "markdown",
   "metadata": {},
   "source": [
    "#### Process Each Batch\n",
    "\n",
    "*** eventually want to make role more specific ***"
   ]
  },
  {
   "cell_type": "code",
   "execution_count": 8,
   "metadata": {},
   "outputs": [],
   "source": [
    "# Initialize the list to store results\n",
    "results = []\n",
    "\n",
    "# Loop through each batch\n",
    "for batch in split_data_by_token_limit(llm_data, prompt):\n",
    "    # Prepare the data from the current batch\n",
    "    batch_text = ', '.join(batch)\n",
    "    \n",
    "    # Combine the prompt and batch data into a single message format\n",
    "    messages = [\n",
    "        {\"role\": \"user\", \"content\": f\"{prompt}\\nData: {batch_text}\"}\n",
    "    ]\n",
    "\n",
    "    # Call the LLM using the .invoke() method\n",
    "    try:\n",
    "        response = llm.invoke(messages)\n",
    "        \n",
    "        # Extract the content (the results returned by the LLM)\n",
    "        content = response.content\n",
    "        \n",
    "        # Append the content to the results list\n",
    "        results.append(content)\n",
    "    \n",
    "    except Exception as e:\n",
    "        print(f\"Error processing batch: {e}\")"
   ]
  },
  {
   "cell_type": "markdown",
   "metadata": {},
   "source": [
    "#### Convert Responses to DataFrame\n",
    "\n",
    "*** add preprocessing steps to avoid having to skip bad lines ***"
   ]
  },
  {
   "cell_type": "code",
   "execution_count": 9,
   "metadata": {},
   "outputs": [
    {
     "data": {
      "text/html": [
       "<div>\n",
       "<style scoped>\n",
       "    .dataframe tbody tr th:only-of-type {\n",
       "        vertical-align: middle;\n",
       "    }\n",
       "\n",
       "    .dataframe tbody tr th {\n",
       "        vertical-align: top;\n",
       "    }\n",
       "\n",
       "    .dataframe thead th {\n",
       "        text-align: right;\n",
       "    }\n",
       "</style>\n",
       "<table border=\"1\" class=\"dataframe\">\n",
       "  <thead>\n",
       "    <tr style=\"text-align: right;\">\n",
       "      <th></th>\n",
       "      <th>duration</th>\n",
       "      <th>days</th>\n",
       "      <th>is_estimate</th>\n",
       "    </tr>\n",
       "  </thead>\n",
       "  <tbody>\n",
       "    <tr>\n",
       "      <th>0</th>\n",
       "      <td>not applicable</td>\n",
       "      <td>0</td>\n",
       "      <td>1</td>\n",
       "    </tr>\n",
       "    <tr>\n",
       "      <th>1</th>\n",
       "      <td>14 days</td>\n",
       "      <td>14</td>\n",
       "      <td>0</td>\n",
       "    </tr>\n",
       "    <tr>\n",
       "      <th>2</th>\n",
       "      <td>1 day</td>\n",
       "      <td>1</td>\n",
       "      <td>0</td>\n",
       "    </tr>\n",
       "    <tr>\n",
       "      <th>3</th>\n",
       "      <td>5 days</td>\n",
       "      <td>5</td>\n",
       "      <td>0</td>\n",
       "    </tr>\n",
       "    <tr>\n",
       "      <th>4</th>\n",
       "      <td>2 weeks</td>\n",
       "      <td>14</td>\n",
       "      <td>0</td>\n",
       "    </tr>\n",
       "    <tr>\n",
       "      <th>...</th>\n",
       "      <td>...</td>\n",
       "      <td>...</td>\n",
       "      <td>...</td>\n",
       "    </tr>\n",
       "    <tr>\n",
       "      <th>1351</th>\n",
       "      <td>march 27-may 27</td>\n",
       "      <td>62</td>\n",
       "      <td>0</td>\n",
       "    </tr>\n",
       "    <tr>\n",
       "      <th>1352</th>\n",
       "      <td>water line repa</td>\n",
       "      <td>0</td>\n",
       "      <td>1</td>\n",
       "    </tr>\n",
       "    <tr>\n",
       "      <th>1353</th>\n",
       "      <td>one day/4 hours</td>\n",
       "      <td>1</td>\n",
       "      <td>1</td>\n",
       "    </tr>\n",
       "    <tr>\n",
       "      <th>1354</th>\n",
       "      <td>april 5-7. stor</td>\n",
       "      <td>3</td>\n",
       "      <td>0</td>\n",
       "    </tr>\n",
       "    <tr>\n",
       "      <th>1355</th>\n",
       "      <td>1-hrs</td>\n",
       "      <td>1</td>\n",
       "      <td>1</td>\n",
       "    </tr>\n",
       "  </tbody>\n",
       "</table>\n",
       "<p>1356 rows × 3 columns</p>\n",
       "</div>"
      ],
      "text/plain": [
       "             duration  days  is_estimate\n",
       "0      not applicable     0            1\n",
       "1             14 days    14            0\n",
       "2               1 day     1            0\n",
       "3              5 days     5            0\n",
       "4             2 weeks    14            0\n",
       "...               ...   ...          ...\n",
       "1351  march 27-may 27    62            0\n",
       "1352  water line repa     0            1\n",
       "1353  one day/4 hours     1            1\n",
       "1354  april 5-7. stor     3            0\n",
       "1355            1-hrs     1            1\n",
       "\n",
       "[1356 rows x 3 columns]"
      ]
     },
     "metadata": {},
     "output_type": "display_data"
    }
   ],
   "source": [
    "import pandas as pd\n",
    "import io\n",
    "\n",
    "# Initialize an empty list to store DataFrames\n",
    "df_list = []\n",
    "\n",
    "# Process each CSV string in results\n",
    "for content in results:\n",
    "    try:\n",
    "        # Read the CSV-formatted string into a DataFrame\n",
    "        df = pd.read_csv(io.StringIO(content))#, on_bad_lines='skip')\n",
    "        df_list.append(df)\n",
    "    \n",
    "    except Exception as e:\n",
    "        print(f\"Error parsing result: {e}\")\n",
    "\n",
    "\n",
    "# Concatenate all DataFrames if any\n",
    "if df_list:\n",
    "    df_results = pd.concat(df_list, ignore_index=True)\n",
    "    display(df_results)\n",
    "\n",
    "else:\n",
    "    print(\"No valid results to convert into a DataFrame.\")"
   ]
  },
  {
   "cell_type": "markdown",
   "metadata": {},
   "source": [
    "#### Comparing to Labels"
   ]
  },
  {
   "cell_type": "code",
   "execution_count": 13,
   "metadata": {},
   "outputs": [
    {
     "name": "stdout",
     "output_type": "stream",
     "text": [
      "Days Accuracy: 87.54% (1187 out of 1356 correct)\n",
      "Estimate Accuracy: 69.10% (937 out of 1356 correct)\n",
      "\n",
      "Sample Days Mismatches:\n",
      "          duration  days  DAYS_original\n",
      "17            week     0              7\n",
      "29     spring 2025     0             93\n",
      "51   2weeks to 1 m    14             30\n",
      "67            none     0              1\n",
      "75   several weeks    14              0\n",
      "108         1 weel     0              7\n",
      "137      12 months   365            360\n",
      "148       few days     2              0\n",
      "154         1 dasy     0              1\n",
      "166      few weeks    14              0\n",
      "\n",
      "Sample Estimate Mismatches:\n",
      "       duration  is_estimate  ESTIMATE_original\n",
      "17         week            1                  0\n",
      "23    2 hour(s)            1                  0\n",
      "27    1 hour(s)            1                  0\n",
      "28   24 hour(s)            1                  0\n",
      "29  spring 2025            1                  0\n",
      "40      2 hours            1                  0\n",
      "47    5 hour(s)            1                  0\n",
      "52      1-2 hrs            1                  0\n",
      "53        8 hrs            1                  0\n",
      "59        24hrs            1                  0\n",
      "Days Accuracy: 87.54% (1187 out of 1356 correct)\n",
      "Estimate Accuracy: 69.10% (937 out of 1356 correct)\n",
      "\n",
      "Sample Days Mismatches:\n",
      "          duration  days  DAYS_original\n",
      "17            week     0              7\n",
      "29     spring 2025     0             93\n",
      "51   2weeks to 1 m    14             30\n",
      "67            none     0              1\n",
      "75   several weeks    14              0\n",
      "108         1 weel     0              7\n",
      "137      12 months   365            360\n",
      "148       few days     2              0\n",
      "154         1 dasy     0              1\n",
      "166      few weeks    14              0\n",
      "\n",
      "Sample Estimate Mismatches:\n",
      "       duration  is_estimate  ESTIMATE_original\n",
      "17         week            1                  0\n",
      "23    2 hour(s)            1                  0\n",
      "27    1 hour(s)            1                  0\n",
      "28   24 hour(s)            1                  0\n",
      "29  spring 2025            1                  0\n",
      "40      2 hours            1                  0\n",
      "47    5 hour(s)            1                  0\n",
      "52      1-2 hrs            1                  0\n",
      "53        8 hrs            1                  0\n",
      "59        24hrs            1                  0\n"
     ]
    },
    {
     "name": "stderr",
     "output_type": "stream",
     "text": [
      "<positron-console-cell-13>:52: FutureWarning: \n",
      "\n",
      "Passing `palette` without assigning `hue` is deprecated and will be removed in v0.14.0. Assign the `x` variable to `hue` and set `legend=False` for the same effect.\n",
      "\n",
      "<positron-console-cell-13>:57: FutureWarning: Series.__getitem__ treating keys as positions is deprecated. In a future version, integer keys will always be treated as labels (consistent with DataFrame behavior). To access a value by position, use `ser.iloc[pos]`\n",
      "<positron-console-cell-13>:61: FutureWarning: \n",
      "\n",
      "Passing `palette` without assigning `hue` is deprecated and will be removed in v0.14.0. Assign the `x` variable to `hue` and set `legend=False` for the same effect.\n",
      "\n",
      "<positron-console-cell-13>:66: FutureWarning: Series.__getitem__ treating keys as positions is deprecated. In a future version, integer keys will always be treated as labels (consistent with DataFrame behavior). To access a value by position, use `ser.iloc[pos]`\n"
     ]
    },
    {
     "data": {
      "image/png": "[encoded data removed]",
      "text/plain": [
       "<Figure size 1400x600 with 2 Axes>"
      ]
     },
     "metadata": {},
     "output_type": "display_data"
    }
   ],
   "source": [
    "import pandas as pd\n",
    "import matplotlib.pyplot as plt\n",
    "import seaborn as sns\n",
    "\n",
    "# Ensure that raw_df and df_results have been previously defined and contain the necessary columns\n",
    "# raw_df should have 'DAYS' and 'ESTIMATE' columns\n",
    "# df_results should have 'days' and 'is_estimate' columns\n",
    "\n",
    "# 1. Verify Row Counts\n",
    "if len(raw_df) != len(df_results):\n",
    "    raise ValueError(f\"Row count mismatch: raw_df has {len(raw_df)} rows, df_results has {len(df_results)} rows.\")\n",
    "\n",
    "# 2. Reset Index to Ensure Alignment\n",
    "raw_df = raw_df.reset_index(drop=True)\n",
    "df_results = df_results.reset_index(drop=True)\n",
    "\n",
    "# 3. Check if 'DAYS' and 'ESTIMATE' Columns Exist in raw_df\n",
    "required_columns = ['DAYS', 'ESTIMATE']\n",
    "missing_columns = [col for col in required_columns if col not in raw_df.columns]\n",
    "if missing_columns:\n",
    "    raise KeyError(f\"The following required columns are missing in raw_df: {missing_columns}\")\n",
    "\n",
    "# 4. Add Original Columns to df_results for Comparison\n",
    "df_results['DAYS_original'] = raw_df['DAYS']\n",
    "df_results['ESTIMATE_original'] = raw_df['ESTIMATE']\n",
    "\n",
    "# 5. Compare 'days' with 'DAYS_original'\n",
    "df_results['days_match'] = df_results['days'] == df_results['DAYS_original']\n",
    "days_accuracy = df_results['days_match'].mean() * 100\n",
    "print(f\"Days Accuracy: {days_accuracy:.2f}% ({df_results['days_match'].sum()} out of {len(df_results)} correct)\")\n",
    "\n",
    "# 6. Compare 'is_estimate' with 'ESTIMATE_original'\n",
    "df_results['estimate_match'] = df_results['is_estimate'] == df_results['ESTIMATE_original']\n",
    "estimate_accuracy = df_results['estimate_match'].mean() * 100\n",
    "print(f\"Estimate Accuracy: {estimate_accuracy:.2f}% ({df_results['estimate_match'].sum()} out of {len(df_results)} correct)\")\n",
    "\n",
    "# 7. Display Sample Mismatches for 'days'\n",
    "days_mismatches = df_results[df_results['days_match'] == False]\n",
    "print(\"\\nSample Days Mismatches:\")\n",
    "print(days_mismatches[['duration', 'days', 'DAYS_original']].head(10))\n",
    "\n",
    "# 8. Display Sample Mismatches for 'is_estimate'\n",
    "estimate_mismatches = df_results[df_results['estimate_match'] == False]\n",
    "print(\"\\nSample Estimate Mismatches:\")\n",
    "print(estimate_mismatches[['duration', 'is_estimate', 'ESTIMATE_original']].head(10))\n",
    "\n",
    "# 9. Visualize the Comparison Results\n",
    "plt.figure(figsize=(14, 6))\n",
    "\n",
    "# Subplot for Days Comparison\n",
    "plt.subplot(1, 2, 1)\n",
    "sns.countplot(x='days_match', data=df_results, palette=['salmon', 'seagreen'])\n",
    "plt.title('Days Comparison')\n",
    "plt.xlabel('Days Match')\n",
    "plt.ylabel('Count')\n",
    "plt.xticks([0, 1], ['No', 'Yes'])\n",
    "plt.text(-0.1, df_results['days_match'].value_counts()[1] + 100, f\"{days_accuracy:.2f}%\", fontsize=12, color='seagreen')\n",
    "\n",
    "# Subplot for Estimate Comparison\n",
    "plt.subplot(1, 2, 2)\n",
    "sns.countplot(x='estimate_match', data=df_results, palette=['salmon', 'seagreen'])\n",
    "plt.title('Estimate Comparison')\n",
    "plt.xlabel('Estimate Match')\n",
    "plt.ylabel('Count')\n",
    "plt.xticks([0, 1], ['No', 'Yes'])\n",
    "plt.text(-0.1, df_results['estimate_match'].value_counts()[1] + 100, f\"{estimate_accuracy:.2f}%\", fontsize=12, color='seagreen')\n",
    "\n",
    "plt.tight_layout()\n",
    "plt.show()\n"
   ]
  },
  {
   "cell_type": "markdown",
   "metadata": {},
   "source": []
  },
  {
   "cell_type": "code",
   "execution_count": 11,
   "metadata": {},
   "outputs": [
    {
     "name": "stdout",
     "output_type": "stream",
     "text": [
      "1356\n",
      "1356\n",
      "1356\n",
      "1356\n"
     ]
    }
   ],
   "source": [
    "print(len(df_results))\n",
    "print(len(raw_df))"
   ]
  }
 ],
 "metadata": {
  "language_info": {
   "name": "python"
  }
 },
 "nbformat": 4,
 "nbformat_minor": 2
}
